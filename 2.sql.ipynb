{
 "cells": [
  {
   "cell_type": "code",
   "execution_count": 1,
   "metadata": {},
   "outputs": [],
   "source": [
    "import pandas as pd\n",
    "import numpy as np"
   ]
  },
  {
   "cell_type": "code",
   "execution_count": 2,
   "metadata": {},
   "outputs": [],
   "source": [
    "import mysql.connector\n",
    "\n",
    "config = {\n",
    "    'host':'127.0.0.1',\n",
    "    'user':'root',\n",
    "    'passwd':'BeRisk912',\n",
    "    'database':'sales'\n",
    "}\n",
    "\n",
    "connection = mysql.connector.connect(**config)\n",
    "cursor = connection.cursor(buffered=True)"
   ]
  },
  {
   "cell_type": "code",
   "execution_count": 8,
   "metadata": {},
   "outputs": [],
   "source": [
    "# # Run the sql file\n",
    "# # we did it manually using MySQL workbench\n",
    "\n",
    "# with open('db_dump.sql', 'r') as f:\n",
    "#     with connection.cursor() as cursor:\n",
    "#         cursor.execute(f.read(), multi=True)\n",
    "#     connection.commit()"
   ]
  },
  {
   "cell_type": "code",
   "execution_count": 10,
   "metadata": {},
   "outputs": [
    {
     "data": {
      "text/html": [
       "<div>\n",
       "<style scoped>\n",
       "    .dataframe tbody tr th:only-of-type {\n",
       "        vertical-align: middle;\n",
       "    }\n",
       "\n",
       "    .dataframe tbody tr th {\n",
       "        vertical-align: top;\n",
       "    }\n",
       "\n",
       "    .dataframe thead th {\n",
       "        text-align: right;\n",
       "    }\n",
       "</style>\n",
       "<table border=\"1\" class=\"dataframe\">\n",
       "  <thead>\n",
       "    <tr style=\"text-align: right;\">\n",
       "      <th></th>\n",
       "      <th>Database</th>\n",
       "    </tr>\n",
       "  </thead>\n",
       "  <tbody>\n",
       "    <tr>\n",
       "      <th>0</th>\n",
       "      <td>dqlab</td>\n",
       "    </tr>\n",
       "    <tr>\n",
       "      <th>1</th>\n",
       "      <td>information_schema</td>\n",
       "    </tr>\n",
       "    <tr>\n",
       "      <th>2</th>\n",
       "      <td>mysql</td>\n",
       "    </tr>\n",
       "    <tr>\n",
       "      <th>3</th>\n",
       "      <td>performance_schema</td>\n",
       "    </tr>\n",
       "    <tr>\n",
       "      <th>4</th>\n",
       "      <td>portofolioproject</td>\n",
       "    </tr>\n",
       "    <tr>\n",
       "      <th>5</th>\n",
       "      <td>record_company</td>\n",
       "    </tr>\n",
       "    <tr>\n",
       "      <th>6</th>\n",
       "      <td>sales</td>\n",
       "    </tr>\n",
       "    <tr>\n",
       "      <th>7</th>\n",
       "      <td>sales_codebasics1</td>\n",
       "    </tr>\n",
       "    <tr>\n",
       "      <th>8</th>\n",
       "      <td>sys</td>\n",
       "    </tr>\n",
       "    <tr>\n",
       "      <th>9</th>\n",
       "      <td>world</td>\n",
       "    </tr>\n",
       "  </tbody>\n",
       "</table>\n",
       "</div>"
      ],
      "text/plain": [
       "             Database\n",
       "0               dqlab\n",
       "1  information_schema\n",
       "2               mysql\n",
       "3  performance_schema\n",
       "4   portofolioproject\n",
       "5      record_company\n",
       "6               sales\n",
       "7   sales_codebasics1\n",
       "8                 sys\n",
       "9               world"
      ]
     },
     "execution_count": 10,
     "metadata": {},
     "output_type": "execute_result"
    }
   ],
   "source": [
    "# show databases\n",
    "# with pandas\n",
    "\n",
    "command1 = '''\n",
    "    SHOW DATABASES;\n",
    "'''\n",
    "\n",
    "show_databases = pd.read_sql(command1, connection)\n",
    "show_databases"
   ]
  },
  {
   "cell_type": "code",
   "execution_count": 11,
   "metadata": {},
   "outputs": [],
   "source": [
    "# show databases\n",
    "# without pandas\n",
    "\n",
    "# cursor.execute(\"SHOW DATABASES;\")"
   ]
  },
  {
   "cell_type": "code",
   "execution_count": 9,
   "metadata": {},
   "outputs": [
    {
     "data": {
      "text/html": [
       "<div>\n",
       "<style scoped>\n",
       "    .dataframe tbody tr th:only-of-type {\n",
       "        vertical-align: middle;\n",
       "    }\n",
       "\n",
       "    .dataframe tbody tr th {\n",
       "        vertical-align: top;\n",
       "    }\n",
       "\n",
       "    .dataframe thead th {\n",
       "        text-align: right;\n",
       "    }\n",
       "</style>\n",
       "<table border=\"1\" class=\"dataframe\">\n",
       "  <thead>\n",
       "    <tr style=\"text-align: right;\">\n",
       "      <th></th>\n",
       "      <th>Tables_in_sales</th>\n",
       "    </tr>\n",
       "  </thead>\n",
       "  <tbody>\n",
       "    <tr>\n",
       "      <th>0</th>\n",
       "      <td>customers</td>\n",
       "    </tr>\n",
       "    <tr>\n",
       "      <th>1</th>\n",
       "      <td>date</td>\n",
       "    </tr>\n",
       "    <tr>\n",
       "      <th>2</th>\n",
       "      <td>markets</td>\n",
       "    </tr>\n",
       "    <tr>\n",
       "      <th>3</th>\n",
       "      <td>products</td>\n",
       "    </tr>\n",
       "    <tr>\n",
       "      <th>4</th>\n",
       "      <td>transactions</td>\n",
       "    </tr>\n",
       "  </tbody>\n",
       "</table>\n",
       "</div>"
      ],
      "text/plain": [
       "  Tables_in_sales\n",
       "0       customers\n",
       "1            date\n",
       "2         markets\n",
       "3        products\n",
       "4    transactions"
      ]
     },
     "execution_count": 9,
     "metadata": {},
     "output_type": "execute_result"
    }
   ],
   "source": [
    "# Show Tables\n",
    "command2 = '''\n",
    "    SHOW TABLES;\n",
    "'''\n",
    "\n",
    "show_tables = pd.read_sql(command2, connection)\n",
    "show_tables"
   ]
  },
  {
   "cell_type": "markdown",
   "metadata": {},
   "source": [
    "# Functions"
   ]
  },
  {
   "cell_type": "code",
   "execution_count": 3,
   "metadata": {},
   "outputs": [],
   "source": [
    "# Function for select\n",
    "\n",
    "def select(command):\n",
    "    return pd.read_sql(command, connection)"
   ]
  },
  {
   "cell_type": "code",
   "execution_count": 4,
   "metadata": {},
   "outputs": [],
   "source": [
    "# Function for delete\n",
    "\n",
    "def delete(command):\n",
    "    cursor.execute(command)\n",
    "    return 'successfully deleted'\n"
   ]
  },
  {
   "cell_type": "code",
   "execution_count": 5,
   "metadata": {},
   "outputs": [],
   "source": [
    "# Function for update\n",
    "\n",
    "def update(command):\n",
    "    cursor.execute(command)\n",
    "    return 'successfully updated'\n"
   ]
  },
  {
   "cell_type": "code",
   "execution_count": 6,
   "metadata": {},
   "outputs": [],
   "source": [
    "# Function for look more into each column in the table\n",
    "\n",
    "def unique_in_value_table(table):\n",
    "    for i in table.columns:\n",
    "        print(i, ': ', table[i].unique(), '\\n')\n",
    "    "
   ]
  },
  {
   "cell_type": "markdown",
   "metadata": {},
   "source": [
    "## Customers Table"
   ]
  },
  {
   "cell_type": "code",
   "execution_count": 7,
   "metadata": {},
   "outputs": [
    {
     "data": {
      "text/html": [
       "<div>\n",
       "<style scoped>\n",
       "    .dataframe tbody tr th:only-of-type {\n",
       "        vertical-align: middle;\n",
       "    }\n",
       "\n",
       "    .dataframe tbody tr th {\n",
       "        vertical-align: top;\n",
       "    }\n",
       "\n",
       "    .dataframe thead th {\n",
       "        text-align: right;\n",
       "    }\n",
       "</style>\n",
       "<table border=\"1\" class=\"dataframe\">\n",
       "  <thead>\n",
       "    <tr style=\"text-align: right;\">\n",
       "      <th></th>\n",
       "      <th>customer_code</th>\n",
       "      <th>custmer_name</th>\n",
       "      <th>customer_type</th>\n",
       "    </tr>\n",
       "  </thead>\n",
       "  <tbody>\n",
       "    <tr>\n",
       "      <th>0</th>\n",
       "      <td>Cus001</td>\n",
       "      <td>Surge Stores</td>\n",
       "      <td>Brick &amp; Mortar</td>\n",
       "    </tr>\n",
       "    <tr>\n",
       "      <th>1</th>\n",
       "      <td>Cus002</td>\n",
       "      <td>Nomad Stores</td>\n",
       "      <td>Brick &amp; Mortar</td>\n",
       "    </tr>\n",
       "    <tr>\n",
       "      <th>2</th>\n",
       "      <td>Cus003</td>\n",
       "      <td>Excel Stores</td>\n",
       "      <td>Brick &amp; Mortar</td>\n",
       "    </tr>\n",
       "    <tr>\n",
       "      <th>3</th>\n",
       "      <td>Cus004</td>\n",
       "      <td>Surface Stores</td>\n",
       "      <td>Brick &amp; Mortar</td>\n",
       "    </tr>\n",
       "    <tr>\n",
       "      <th>4</th>\n",
       "      <td>Cus005</td>\n",
       "      <td>Premium Stores</td>\n",
       "      <td>Brick &amp; Mortar</td>\n",
       "    </tr>\n",
       "  </tbody>\n",
       "</table>\n",
       "</div>"
      ],
      "text/plain": [
       "  customer_code    custmer_name   customer_type\n",
       "0        Cus001    Surge Stores  Brick & Mortar\n",
       "1        Cus002    Nomad Stores  Brick & Mortar\n",
       "2        Cus003    Excel Stores  Brick & Mortar\n",
       "3        Cus004  Surface Stores  Brick & Mortar\n",
       "4        Cus005  Premium Stores  Brick & Mortar"
      ]
     },
     "execution_count": 7,
     "metadata": {},
     "output_type": "execute_result"
    }
   ],
   "source": [
    "# customers table\n",
    "command3 = '''\n",
    "    SELECT * FROM sales.customers;\n",
    "'''\n",
    "\n",
    "# customers_select = pd.read_sql(command3, connection)\n",
    "# customers_select.head()\n",
    "\n",
    "customers = select(command3)\n",
    "customers.head()"
   ]
  },
  {
   "cell_type": "code",
   "execution_count": 8,
   "metadata": {},
   "outputs": [
    {
     "name": "stdout",
     "output_type": "stream",
     "text": [
      "customer_code :  ['Cus001' 'Cus002' 'Cus003' 'Cus004' 'Cus005' 'Cus006' 'Cus007' 'Cus008'\n",
      " 'Cus009' 'Cus010' 'Cus011' 'Cus012' 'Cus013' 'Cus014' 'Cus015' 'Cus016'\n",
      " 'Cus017' 'Cus018' 'Cus019' 'Cus020' 'Cus021' 'Cus022' 'Cus023' 'Cus024'\n",
      " 'Cus025' 'Cus026' 'Cus027' 'Cus028' 'Cus029' 'Cus030' 'Cus031' 'Cus032'\n",
      " 'Cus033' 'Cus034' 'Cus035' 'Cus036' 'Cus037' 'Cus038'] \n",
      "\n",
      "custmer_name :  ['Surge Stores' 'Nomad Stores' 'Excel Stores' 'Surface Stores'\n",
      " 'Premium Stores' 'Electricalsara Stores' 'Info Stores' 'Acclaimed Stores'\n",
      " 'Electricalsquipo Stores' 'Atlas Stores' 'Flawless Stores'\n",
      " 'Integration Stores' 'Unity Stores' 'Forward Stores'\n",
      " 'Electricalsbea Stores' 'Logic Stores' 'Epic Stores'\n",
      " 'Electricalslance Stores' 'Electricalsopedia Stores' 'Nixon' 'Modular'\n",
      " 'Electricalslytical' 'Sound' 'Power' 'Path' 'Insight' 'Control' 'Sage'\n",
      " 'Electricalsocity' 'Synthetic' 'Zone' 'Elite' 'All-Out' 'Expression'\n",
      " 'Relief' 'Novus' 'Propel' 'Leader'] \n",
      "\n",
      "customer_type :  ['Brick & Mortar' 'E-Commerce'] \n",
      "\n"
     ]
    }
   ],
   "source": [
    "unique_in_value_table(customers)"
   ]
  },
  {
   "cell_type": "code",
   "execution_count": 9,
   "metadata": {},
   "outputs": [],
   "source": [
    "# Export data to csv\n",
    "customers.to_csv(r'csv_file/customers_clean.csv', \n",
    "                index = False, \n",
    "                header=True)"
   ]
  },
  {
   "cell_type": "markdown",
   "metadata": {},
   "source": [
    "## Transactions Table"
   ]
  },
  {
   "cell_type": "code",
   "execution_count": 36,
   "metadata": {},
   "outputs": [
    {
     "data": {
      "text/html": [
       "<div>\n",
       "<style scoped>\n",
       "    .dataframe tbody tr th:only-of-type {\n",
       "        vertical-align: middle;\n",
       "    }\n",
       "\n",
       "    .dataframe tbody tr th {\n",
       "        vertical-align: top;\n",
       "    }\n",
       "\n",
       "    .dataframe thead th {\n",
       "        text-align: right;\n",
       "    }\n",
       "</style>\n",
       "<table border=\"1\" class=\"dataframe\">\n",
       "  <thead>\n",
       "    <tr style=\"text-align: right;\">\n",
       "      <th></th>\n",
       "      <th>product_code</th>\n",
       "      <th>customer_code</th>\n",
       "      <th>market_code</th>\n",
       "      <th>order_date</th>\n",
       "      <th>sales_qty</th>\n",
       "      <th>sales_amount</th>\n",
       "      <th>currency</th>\n",
       "    </tr>\n",
       "  </thead>\n",
       "  <tbody>\n",
       "    <tr>\n",
       "      <th>0</th>\n",
       "      <td>Prod001</td>\n",
       "      <td>Cus001</td>\n",
       "      <td>Mark001</td>\n",
       "      <td>2017-10-10</td>\n",
       "      <td>100</td>\n",
       "      <td>41241.0</td>\n",
       "      <td>INR</td>\n",
       "    </tr>\n",
       "    <tr>\n",
       "      <th>1</th>\n",
       "      <td>Prod001</td>\n",
       "      <td>Cus002</td>\n",
       "      <td>Mark002</td>\n",
       "      <td>2018-05-08</td>\n",
       "      <td>3</td>\n",
       "      <td>-1.0</td>\n",
       "      <td>INR</td>\n",
       "    </tr>\n",
       "    <tr>\n",
       "      <th>2</th>\n",
       "      <td>Prod002</td>\n",
       "      <td>Cus003</td>\n",
       "      <td>Mark003</td>\n",
       "      <td>2018-04-06</td>\n",
       "      <td>1</td>\n",
       "      <td>875.0</td>\n",
       "      <td>INR</td>\n",
       "    </tr>\n",
       "    <tr>\n",
       "      <th>3</th>\n",
       "      <td>Prod002</td>\n",
       "      <td>Cus003</td>\n",
       "      <td>Mark003</td>\n",
       "      <td>2018-04-11</td>\n",
       "      <td>1</td>\n",
       "      <td>583.0</td>\n",
       "      <td>INR</td>\n",
       "    </tr>\n",
       "    <tr>\n",
       "      <th>4</th>\n",
       "      <td>Prod002</td>\n",
       "      <td>Cus004</td>\n",
       "      <td>Mark003</td>\n",
       "      <td>2018-06-18</td>\n",
       "      <td>6</td>\n",
       "      <td>7176.0</td>\n",
       "      <td>INR</td>\n",
       "    </tr>\n",
       "  </tbody>\n",
       "</table>\n",
       "</div>"
      ],
      "text/plain": [
       "  product_code customer_code market_code  order_date  sales_qty  sales_amount  \\\n",
       "0      Prod001        Cus001     Mark001  2017-10-10        100       41241.0   \n",
       "1      Prod001        Cus002     Mark002  2018-05-08          3          -1.0   \n",
       "2      Prod002        Cus003     Mark003  2018-04-06          1         875.0   \n",
       "3      Prod002        Cus003     Mark003  2018-04-11          1         583.0   \n",
       "4      Prod002        Cus004     Mark003  2018-06-18          6        7176.0   \n",
       "\n",
       "  currency  \n",
       "0      INR  \n",
       "1      INR  \n",
       "2      INR  \n",
       "3      INR  \n",
       "4      INR  "
      ]
     },
     "execution_count": 36,
     "metadata": {},
     "output_type": "execute_result"
    }
   ],
   "source": [
    "# Transactions Table\n",
    "command4 = '''\n",
    "    SELECT * FROM sales.transactions;\n",
    "'''\n",
    "\n",
    "transactions = select(command4)\n",
    "transactions.head()"
   ]
  },
  {
   "cell_type": "code",
   "execution_count": 10,
   "metadata": {},
   "outputs": [],
   "source": [
    "# unique_in_value_table(transactions)"
   ]
  },
  {
   "cell_type": "markdown",
   "metadata": {},
   "source": [
    "If we look at the currency, there is USD, because we only focus in India and year 2020, so we can ignore it."
   ]
  },
  {
   "cell_type": "code",
   "execution_count": 39,
   "metadata": {},
   "outputs": [
    {
     "data": {
      "text/html": [
       "<div>\n",
       "<style scoped>\n",
       "    .dataframe tbody tr th:only-of-type {\n",
       "        vertical-align: middle;\n",
       "    }\n",
       "\n",
       "    .dataframe tbody tr th {\n",
       "        vertical-align: top;\n",
       "    }\n",
       "\n",
       "    .dataframe thead th {\n",
       "        text-align: right;\n",
       "    }\n",
       "</style>\n",
       "<table border=\"1\" class=\"dataframe\">\n",
       "  <thead>\n",
       "    <tr style=\"text-align: right;\">\n",
       "      <th></th>\n",
       "      <th>product_code</th>\n",
       "      <th>customer_code</th>\n",
       "      <th>market_code</th>\n",
       "      <th>order_date</th>\n",
       "      <th>sales_qty</th>\n",
       "      <th>sales_amount</th>\n",
       "      <th>currency</th>\n",
       "    </tr>\n",
       "  </thead>\n",
       "  <tbody>\n",
       "    <tr>\n",
       "      <th>0</th>\n",
       "      <td>Prod003</td>\n",
       "      <td>Cus005</td>\n",
       "      <td>Mark004</td>\n",
       "      <td>2017-11-20</td>\n",
       "      <td>59</td>\n",
       "      <td>500.0</td>\n",
       "      <td>USD</td>\n",
       "    </tr>\n",
       "    <tr>\n",
       "      <th>1</th>\n",
       "      <td>Prod003</td>\n",
       "      <td>Cus005</td>\n",
       "      <td>Mark004</td>\n",
       "      <td>2017-11-22</td>\n",
       "      <td>36</td>\n",
       "      <td>250.0</td>\n",
       "      <td>USD</td>\n",
       "    </tr>\n",
       "    <tr>\n",
       "      <th>2</th>\n",
       "      <td>Prod003</td>\n",
       "      <td>Cus005</td>\n",
       "      <td>Mark004</td>\n",
       "      <td>2017-11-20</td>\n",
       "      <td>59</td>\n",
       "      <td>500.0</td>\n",
       "      <td>USD\\r</td>\n",
       "    </tr>\n",
       "    <tr>\n",
       "      <th>3</th>\n",
       "      <td>Prod003</td>\n",
       "      <td>Cus005</td>\n",
       "      <td>Mark004</td>\n",
       "      <td>2017-11-22</td>\n",
       "      <td>36</td>\n",
       "      <td>250.0</td>\n",
       "      <td>USD\\r</td>\n",
       "    </tr>\n",
       "  </tbody>\n",
       "</table>\n",
       "</div>"
      ],
      "text/plain": [
       "  product_code customer_code market_code  order_date  sales_qty  sales_amount  \\\n",
       "0      Prod003        Cus005     Mark004  2017-11-20         59         500.0   \n",
       "1      Prod003        Cus005     Mark004  2017-11-22         36         250.0   \n",
       "2      Prod003        Cus005     Mark004  2017-11-20         59         500.0   \n",
       "3      Prod003        Cus005     Mark004  2017-11-22         36         250.0   \n",
       "\n",
       "  currency  \n",
       "0      USD  \n",
       "1      USD  \n",
       "2    USD\\r  \n",
       "3    USD\\r  "
      ]
     },
     "execution_count": 39,
     "metadata": {},
     "output_type": "execute_result"
    }
   ],
   "source": [
    "# Look how many transactions using USD\n",
    "command42 = '''\n",
    "    SELECT * FROM sales.transactions\n",
    "    WHERE \n",
    "        currency = 'USD'\n",
    "        OR\n",
    "        currency = 'USD\\r';\n",
    "'''\n",
    "\n",
    "select(command42)"
   ]
  },
  {
   "cell_type": "code",
   "execution_count": 59,
   "metadata": {},
   "outputs": [
    {
     "data": {
      "text/plain": [
       "'successfully updated'"
      ]
     },
     "execution_count": 59,
     "metadata": {},
     "output_type": "execute_result"
    }
   ],
   "source": [
    "# Update currency from \n",
    "\n",
    "command43 = '''\n",
    "    UPDATE sales.transactions \n",
    "    SET \n",
    "        currency = 'INR'\n",
    "    WHERE\n",
    "        currency = 'INR\\r';\n",
    "'''\n",
    "\n",
    "update(command43)"
   ]
  },
  {
   "cell_type": "code",
   "execution_count": 60,
   "metadata": {},
   "outputs": [
    {
     "data": {
      "text/html": [
       "<div>\n",
       "<style scoped>\n",
       "    .dataframe tbody tr th:only-of-type {\n",
       "        vertical-align: middle;\n",
       "    }\n",
       "\n",
       "    .dataframe tbody tr th {\n",
       "        vertical-align: top;\n",
       "    }\n",
       "\n",
       "    .dataframe thead th {\n",
       "        text-align: right;\n",
       "    }\n",
       "</style>\n",
       "<table border=\"1\" class=\"dataframe\">\n",
       "  <thead>\n",
       "    <tr style=\"text-align: right;\">\n",
       "      <th></th>\n",
       "      <th>product_code</th>\n",
       "      <th>customer_code</th>\n",
       "      <th>market_code</th>\n",
       "      <th>order_date</th>\n",
       "      <th>sales_qty</th>\n",
       "      <th>sales_amount</th>\n",
       "      <th>currency</th>\n",
       "    </tr>\n",
       "  </thead>\n",
       "  <tbody>\n",
       "    <tr>\n",
       "      <th>0</th>\n",
       "      <td>Prod001</td>\n",
       "      <td>Cus001</td>\n",
       "      <td>Mark001</td>\n",
       "      <td>2017-10-10</td>\n",
       "      <td>100</td>\n",
       "      <td>41241.0</td>\n",
       "      <td>INR</td>\n",
       "    </tr>\n",
       "    <tr>\n",
       "      <th>1</th>\n",
       "      <td>Prod001</td>\n",
       "      <td>Cus002</td>\n",
       "      <td>Mark002</td>\n",
       "      <td>2018-05-08</td>\n",
       "      <td>3</td>\n",
       "      <td>-1.0</td>\n",
       "      <td>INR</td>\n",
       "    </tr>\n",
       "    <tr>\n",
       "      <th>2</th>\n",
       "      <td>Prod002</td>\n",
       "      <td>Cus003</td>\n",
       "      <td>Mark003</td>\n",
       "      <td>2018-04-06</td>\n",
       "      <td>1</td>\n",
       "      <td>875.0</td>\n",
       "      <td>INR</td>\n",
       "    </tr>\n",
       "    <tr>\n",
       "      <th>3</th>\n",
       "      <td>Prod002</td>\n",
       "      <td>Cus003</td>\n",
       "      <td>Mark003</td>\n",
       "      <td>2018-04-11</td>\n",
       "      <td>1</td>\n",
       "      <td>583.0</td>\n",
       "      <td>INR</td>\n",
       "    </tr>\n",
       "    <tr>\n",
       "      <th>4</th>\n",
       "      <td>Prod002</td>\n",
       "      <td>Cus004</td>\n",
       "      <td>Mark003</td>\n",
       "      <td>2018-06-18</td>\n",
       "      <td>6</td>\n",
       "      <td>7176.0</td>\n",
       "      <td>INR</td>\n",
       "    </tr>\n",
       "  </tbody>\n",
       "</table>\n",
       "</div>"
      ],
      "text/plain": [
       "  product_code customer_code market_code  order_date  sales_qty  sales_amount  \\\n",
       "0      Prod001        Cus001     Mark001  2017-10-10        100       41241.0   \n",
       "1      Prod001        Cus002     Mark002  2018-05-08          3          -1.0   \n",
       "2      Prod002        Cus003     Mark003  2018-04-06          1         875.0   \n",
       "3      Prod002        Cus003     Mark003  2018-04-11          1         583.0   \n",
       "4      Prod002        Cus004     Mark003  2018-06-18          6        7176.0   \n",
       "\n",
       "  currency  \n",
       "0      INR  \n",
       "1      INR  \n",
       "2      INR  \n",
       "3      INR  \n",
       "4      INR  "
      ]
     },
     "execution_count": 60,
     "metadata": {},
     "output_type": "execute_result"
    }
   ],
   "source": [
    "# clean transaction table\n",
    "command44 = '''\n",
    "    SELECT * FROM sales.transactions;\n",
    "'''\n",
    "\n",
    "transactions_clean = select(command44)\n",
    "transactions_clean.head()"
   ]
  },
  {
   "cell_type": "code",
   "execution_count": 61,
   "metadata": {},
   "outputs": [
    {
     "data": {
      "text/plain": [
       "array(['INR', 'USD', 'USD\\r'], dtype=object)"
      ]
     },
     "execution_count": 61,
     "metadata": {},
     "output_type": "execute_result"
    }
   ],
   "source": [
    "transactions_clean.currency.unique()"
   ]
  },
  {
   "cell_type": "code",
   "execution_count": 62,
   "metadata": {},
   "outputs": [],
   "source": [
    "# Export data to csv\n",
    "transactions_clean.to_csv(r'csv_file/transactions_clean.csv', \n",
    "                index = False, \n",
    "                header=True)"
   ]
  },
  {
   "cell_type": "markdown",
   "metadata": {},
   "source": [
    "## Markets Table"
   ]
  },
  {
   "cell_type": "code",
   "execution_count": 12,
   "metadata": {},
   "outputs": [
    {
     "data": {
      "text/html": [
       "<div>\n",
       "<style scoped>\n",
       "    .dataframe tbody tr th:only-of-type {\n",
       "        vertical-align: middle;\n",
       "    }\n",
       "\n",
       "    .dataframe tbody tr th {\n",
       "        vertical-align: top;\n",
       "    }\n",
       "\n",
       "    .dataframe thead th {\n",
       "        text-align: right;\n",
       "    }\n",
       "</style>\n",
       "<table border=\"1\" class=\"dataframe\">\n",
       "  <thead>\n",
       "    <tr style=\"text-align: right;\">\n",
       "      <th></th>\n",
       "      <th>markets_code</th>\n",
       "      <th>markets_name</th>\n",
       "      <th>zone</th>\n",
       "    </tr>\n",
       "  </thead>\n",
       "  <tbody>\n",
       "    <tr>\n",
       "      <th>0</th>\n",
       "      <td>Mark001</td>\n",
       "      <td>Chennai</td>\n",
       "      <td>South</td>\n",
       "    </tr>\n",
       "    <tr>\n",
       "      <th>1</th>\n",
       "      <td>Mark002</td>\n",
       "      <td>Mumbai</td>\n",
       "      <td>Central</td>\n",
       "    </tr>\n",
       "    <tr>\n",
       "      <th>2</th>\n",
       "      <td>Mark003</td>\n",
       "      <td>Ahmedabad</td>\n",
       "      <td>North</td>\n",
       "    </tr>\n",
       "    <tr>\n",
       "      <th>3</th>\n",
       "      <td>Mark004</td>\n",
       "      <td>Delhi NCR</td>\n",
       "      <td>North</td>\n",
       "    </tr>\n",
       "    <tr>\n",
       "      <th>4</th>\n",
       "      <td>Mark005</td>\n",
       "      <td>Kanpur</td>\n",
       "      <td>North</td>\n",
       "    </tr>\n",
       "  </tbody>\n",
       "</table>\n",
       "</div>"
      ],
      "text/plain": [
       "  markets_code markets_name     zone\n",
       "0      Mark001      Chennai    South\n",
       "1      Mark002       Mumbai  Central\n",
       "2      Mark003    Ahmedabad    North\n",
       "3      Mark004    Delhi NCR    North\n",
       "4      Mark005       Kanpur    North"
      ]
     },
     "execution_count": 12,
     "metadata": {},
     "output_type": "execute_result"
    }
   ],
   "source": [
    "# markets table\n",
    "command5 = '''\n",
    "    SELECT * FROM sales.markets;\n",
    "'''\n",
    "\n",
    "markets = select(command5)\n",
    "markets.head()"
   ]
  },
  {
   "cell_type": "code",
   "execution_count": 22,
   "metadata": {},
   "outputs": [
    {
     "name": "stdout",
     "output_type": "stream",
     "text": [
      "markets_code :  ['Mark001' 'Mark002' 'Mark003' 'Mark004' 'Mark005' 'Mark006' 'Mark007'\n",
      " 'Mark008' 'Mark009' 'Mark010' 'Mark011' 'Mark012' 'Mark013' 'Mark014'\n",
      " 'Mark015' 'Mark097' 'Mark999'] \n",
      "\n",
      "markets_name :  ['Chennai' 'Mumbai' 'Ahmedabad' 'Delhi NCR' 'Kanpur' 'Bengaluru' 'Bhopal'\n",
      " 'Lucknow' 'Patna' 'Kochi' 'Nagpur' 'Surat' 'Hyderabad' 'Bhubaneshwar'\n",
      " 'New York' 'Paris'] \n",
      "\n",
      "zone :  ['South' 'Central' 'North' ''] \n",
      "\n"
     ]
    }
   ],
   "source": [
    "unique_in_value_table(markets)"
   ]
  },
  {
   "cell_type": "code",
   "execution_count": 24,
   "metadata": {},
   "outputs": [
    {
     "data": {
      "text/html": [
       "<div>\n",
       "<style scoped>\n",
       "    .dataframe tbody tr th:only-of-type {\n",
       "        vertical-align: middle;\n",
       "    }\n",
       "\n",
       "    .dataframe tbody tr th {\n",
       "        vertical-align: top;\n",
       "    }\n",
       "\n",
       "    .dataframe thead th {\n",
       "        text-align: right;\n",
       "    }\n",
       "</style>\n",
       "<table border=\"1\" class=\"dataframe\">\n",
       "  <thead>\n",
       "    <tr style=\"text-align: right;\">\n",
       "      <th></th>\n",
       "      <th>markets_code</th>\n",
       "      <th>markets_name</th>\n",
       "      <th>zone</th>\n",
       "    </tr>\n",
       "  </thead>\n",
       "  <tbody>\n",
       "    <tr>\n",
       "      <th>16</th>\n",
       "      <td>Mark999</td>\n",
       "      <td>Paris</td>\n",
       "      <td></td>\n",
       "    </tr>\n",
       "  </tbody>\n",
       "</table>\n",
       "</div>"
      ],
      "text/plain": [
       "   markets_code markets_name zone\n",
       "16      Mark999        Paris     "
      ]
     },
     "execution_count": 24,
     "metadata": {},
     "output_type": "execute_result"
    }
   ],
   "source": [
    "markets[markets['markets_code']=='Mark999']"
   ]
  },
  {
   "cell_type": "code",
   "execution_count": 26,
   "metadata": {},
   "outputs": [
    {
     "data": {
      "text/html": [
       "<div>\n",
       "<style scoped>\n",
       "    .dataframe tbody tr th:only-of-type {\n",
       "        vertical-align: middle;\n",
       "    }\n",
       "\n",
       "    .dataframe tbody tr th {\n",
       "        vertical-align: top;\n",
       "    }\n",
       "\n",
       "    .dataframe thead th {\n",
       "        text-align: right;\n",
       "    }\n",
       "</style>\n",
       "<table border=\"1\" class=\"dataframe\">\n",
       "  <thead>\n",
       "    <tr style=\"text-align: right;\">\n",
       "      <th></th>\n",
       "      <th>markets_code</th>\n",
       "      <th>markets_name</th>\n",
       "      <th>zone</th>\n",
       "    </tr>\n",
       "  </thead>\n",
       "  <tbody>\n",
       "    <tr>\n",
       "      <th>15</th>\n",
       "      <td>Mark097</td>\n",
       "      <td>New York</td>\n",
       "      <td></td>\n",
       "    </tr>\n",
       "  </tbody>\n",
       "</table>\n",
       "</div>"
      ],
      "text/plain": [
       "   markets_code markets_name zone\n",
       "15      Mark097     New York     "
      ]
     },
     "execution_count": 26,
     "metadata": {},
     "output_type": "execute_result"
    }
   ],
   "source": [
    "markets[markets['markets_code']=='Mark097']"
   ]
  },
  {
   "cell_type": "markdown",
   "metadata": {},
   "source": [
    "Because this data is only focused on India area, it's the best way to delete the markets_name from Paris and New York. Consecutively this will also delete all Mark097 and Mark999 in every table that has that markets_code."
   ]
  },
  {
   "cell_type": "code",
   "execution_count": 30,
   "metadata": {},
   "outputs": [
    {
     "data": {
      "text/plain": [
       "'successfully deleted'"
      ]
     },
     "execution_count": 30,
     "metadata": {},
     "output_type": "execute_result"
    }
   ],
   "source": [
    "command_delete1 = '''\n",
    "    DELETE FROM sales.markets\n",
    "    WHERE \n",
    "        markets_code='Mark097'\n",
    "        AND\n",
    "        markets_code='Mark999';\n",
    "'''\n",
    "\n",
    "delete(command_delete1)"
   ]
  },
  {
   "cell_type": "code",
   "execution_count": 33,
   "metadata": {},
   "outputs": [
    {
     "data": {
      "text/html": [
       "<div>\n",
       "<style scoped>\n",
       "    .dataframe tbody tr th:only-of-type {\n",
       "        vertical-align: middle;\n",
       "    }\n",
       "\n",
       "    .dataframe tbody tr th {\n",
       "        vertical-align: top;\n",
       "    }\n",
       "\n",
       "    .dataframe thead th {\n",
       "        text-align: right;\n",
       "    }\n",
       "</style>\n",
       "<table border=\"1\" class=\"dataframe\">\n",
       "  <thead>\n",
       "    <tr style=\"text-align: right;\">\n",
       "      <th></th>\n",
       "      <th>markets_code</th>\n",
       "      <th>markets_name</th>\n",
       "      <th>zone</th>\n",
       "    </tr>\n",
       "  </thead>\n",
       "  <tbody>\n",
       "    <tr>\n",
       "      <th>0</th>\n",
       "      <td>Mark001</td>\n",
       "      <td>Chennai</td>\n",
       "      <td>South</td>\n",
       "    </tr>\n",
       "    <tr>\n",
       "      <th>1</th>\n",
       "      <td>Mark002</td>\n",
       "      <td>Mumbai</td>\n",
       "      <td>Central</td>\n",
       "    </tr>\n",
       "    <tr>\n",
       "      <th>2</th>\n",
       "      <td>Mark003</td>\n",
       "      <td>Ahmedabad</td>\n",
       "      <td>North</td>\n",
       "    </tr>\n",
       "    <tr>\n",
       "      <th>3</th>\n",
       "      <td>Mark004</td>\n",
       "      <td>Delhi NCR</td>\n",
       "      <td>North</td>\n",
       "    </tr>\n",
       "    <tr>\n",
       "      <th>4</th>\n",
       "      <td>Mark005</td>\n",
       "      <td>Kanpur</td>\n",
       "      <td>North</td>\n",
       "    </tr>\n",
       "  </tbody>\n",
       "</table>\n",
       "</div>"
      ],
      "text/plain": [
       "  markets_code markets_name     zone\n",
       "0      Mark001      Chennai    South\n",
       "1      Mark002       Mumbai  Central\n",
       "2      Mark003    Ahmedabad    North\n",
       "3      Mark004    Delhi NCR    North\n",
       "4      Mark005       Kanpur    North"
      ]
     },
     "execution_count": 33,
     "metadata": {},
     "output_type": "execute_result"
    }
   ],
   "source": [
    "markets_clean = select(command5)\n",
    "markets_clean.head()"
   ]
  },
  {
   "cell_type": "code",
   "execution_count": 63,
   "metadata": {},
   "outputs": [],
   "source": [
    "# Export data to csv\n",
    "markets_clean.to_csv(r'csv_file/markets_clean.csv', \n",
    "                index = False, \n",
    "                header=True)"
   ]
  },
  {
   "cell_type": "markdown",
   "metadata": {},
   "source": [
    "## Products Table"
   ]
  },
  {
   "cell_type": "code",
   "execution_count": 65,
   "metadata": {},
   "outputs": [
    {
     "data": {
      "text/html": [
       "<div>\n",
       "<style scoped>\n",
       "    .dataframe tbody tr th:only-of-type {\n",
       "        vertical-align: middle;\n",
       "    }\n",
       "\n",
       "    .dataframe tbody tr th {\n",
       "        vertical-align: top;\n",
       "    }\n",
       "\n",
       "    .dataframe thead th {\n",
       "        text-align: right;\n",
       "    }\n",
       "</style>\n",
       "<table border=\"1\" class=\"dataframe\">\n",
       "  <thead>\n",
       "    <tr style=\"text-align: right;\">\n",
       "      <th></th>\n",
       "      <th>product_code</th>\n",
       "      <th>product_type</th>\n",
       "    </tr>\n",
       "  </thead>\n",
       "  <tbody>\n",
       "    <tr>\n",
       "      <th>0</th>\n",
       "      <td>Prod001</td>\n",
       "      <td>Own Brand\\r</td>\n",
       "    </tr>\n",
       "    <tr>\n",
       "      <th>1</th>\n",
       "      <td>Prod002</td>\n",
       "      <td>Own Brand\\r</td>\n",
       "    </tr>\n",
       "    <tr>\n",
       "      <th>2</th>\n",
       "      <td>Prod003</td>\n",
       "      <td>Own Brand\\r</td>\n",
       "    </tr>\n",
       "    <tr>\n",
       "      <th>3</th>\n",
       "      <td>Prod004</td>\n",
       "      <td>Own Brand\\r</td>\n",
       "    </tr>\n",
       "    <tr>\n",
       "      <th>4</th>\n",
       "      <td>Prod005</td>\n",
       "      <td>Own Brand\\r</td>\n",
       "    </tr>\n",
       "  </tbody>\n",
       "</table>\n",
       "</div>"
      ],
      "text/plain": [
       "  product_code product_type\n",
       "0      Prod001  Own Brand\\r\n",
       "1      Prod002  Own Brand\\r\n",
       "2      Prod003  Own Brand\\r\n",
       "3      Prod004  Own Brand\\r\n",
       "4      Prod005  Own Brand\\r"
      ]
     },
     "execution_count": 65,
     "metadata": {},
     "output_type": "execute_result"
    }
   ],
   "source": [
    "# products table\n",
    "command6 = '''\n",
    "    SELECT * FROM sales.products;\n",
    "'''\n",
    "\n",
    "products = select(command6)\n",
    "products.head()"
   ]
  },
  {
   "cell_type": "code",
   "execution_count": 66,
   "metadata": {},
   "outputs": [
    {
     "name": "stdout",
     "output_type": "stream",
     "text": [
      "product_code :  ['Prod001' 'Prod002' 'Prod003' 'Prod004' 'Prod005' 'Prod006' 'Prod007'\n",
      " 'Prod008' 'Prod009' 'Prod010' 'Prod011' 'Prod012' 'Prod013' 'Prod014'\n",
      " 'Prod015' 'Prod016' 'Prod017' 'Prod018' 'Prod019' 'Prod020' 'Prod021'\n",
      " 'Prod022' 'Prod023' 'Prod024' 'Prod025' 'Prod026' 'Prod027' 'Prod028'\n",
      " 'Prod029' 'Prod030' 'Prod031' 'Prod032' 'Prod033' 'Prod034' 'Prod035'\n",
      " 'Prod036' 'Prod037' 'Prod038' 'Prod039' 'Prod040' 'Prod041' 'Prod042'\n",
      " 'Prod043' 'Prod044' 'Prod045' 'Prod046' 'Prod047' 'Prod048' 'Prod049'\n",
      " 'Prod050' 'Prod051' 'Prod052' 'Prod053' 'Prod054' 'Prod055' 'Prod056'\n",
      " 'Prod057' 'Prod058' 'Prod059' 'Prod060' 'Prod061' 'Prod062' 'Prod063'\n",
      " 'Prod064' 'Prod065' 'Prod066' 'Prod067' 'Prod068' 'Prod069' 'Prod070'\n",
      " 'Prod071' 'Prod072' 'Prod073' 'Prod074' 'Prod075' 'Prod076' 'Prod077'\n",
      " 'Prod078' 'Prod079' 'Prod080' 'Prod081' 'Prod082' 'Prod083' 'Prod084'\n",
      " 'Prod085' 'Prod086' 'Prod087' 'Prod088' 'Prod089' 'Prod090' 'Prod091'\n",
      " 'Prod092' 'Prod093' 'Prod094' 'Prod095' 'Prod096' 'Prod097' 'Prod098'\n",
      " 'Prod099' 'Prod100' 'Prod101' 'Prod102' 'Prod103' 'Prod104' 'Prod105'\n",
      " 'Prod106' 'Prod107' 'Prod108' 'Prod109' 'Prod110' 'Prod111' 'Prod112'\n",
      " 'Prod113' 'Prod114' 'Prod115' 'Prod116' 'Prod117' 'Prod118' 'Prod119'\n",
      " 'Prod120' 'Prod121' 'Prod122' 'Prod123' 'Prod124' 'Prod125' 'Prod126'\n",
      " 'Prod127' 'Prod128' 'Prod129' 'Prod130' 'Prod131' 'Prod132' 'Prod133'\n",
      " 'Prod134' 'Prod135' 'Prod136' 'Prod137' 'Prod138' 'Prod139' 'Prod140'\n",
      " 'Prod141' 'Prod142' 'Prod143' 'Prod144' 'Prod145' 'Prod146' 'Prod147'\n",
      " 'Prod148' 'Prod149' 'Prod150' 'Prod151' 'Prod152' 'Prod153' 'Prod154'\n",
      " 'Prod155' 'Prod156' 'Prod157' 'Prod158' 'Prod159' 'Prod160' 'Prod161'\n",
      " 'Prod162' 'Prod163' 'Prod164' 'Prod165' 'Prod166' 'Prod167' 'Prod168'\n",
      " 'Prod169' 'Prod170' 'Prod171' 'Prod172' 'Prod173' 'Prod174' 'Prod175'\n",
      " 'Prod176' 'Prod177' 'Prod178' 'Prod179' 'Prod180' 'Prod181' 'Prod182'\n",
      " 'Prod183' 'Prod184' 'Prod185' 'Prod186' 'Prod187' 'Prod188' 'Prod189'\n",
      " 'Prod190' 'Prod191' 'Prod192' 'Prod193' 'Prod194' 'Prod195' 'Prod196'\n",
      " 'Prod197' 'Prod198' 'Prod199' 'Prod200' 'Prod201' 'Prod202' 'Prod203'\n",
      " 'Prod204' 'Prod205' 'Prod206' 'Prod207' 'Prod208' 'Prod209' 'Prod210'\n",
      " 'Prod211' 'Prod212' 'Prod213' 'Prod214' 'Prod215' 'Prod216' 'Prod217'\n",
      " 'Prod218' 'Prod219' 'Prod220' 'Prod221' 'Prod222' 'Prod223' 'Prod224'\n",
      " 'Prod225' 'Prod226' 'Prod227' 'Prod228' 'Prod229' 'Prod230' 'Prod231'\n",
      " 'Prod232' 'Prod233' 'Prod234' 'Prod235' 'Prod236' 'Prod237' 'Prod238'\n",
      " 'Prod239' 'Prod240' 'Prod241' 'Prod242' 'Prod243' 'Prod244' 'Prod245'\n",
      " 'Prod246' 'Prod247' 'Prod248' 'Prod249' 'Prod250' 'Prod251' 'Prod252'\n",
      " 'Prod253' 'Prod254' 'Prod255' 'Prod256' 'Prod257' 'Prod258' 'Prod259'\n",
      " 'Prod260' 'Prod261' 'Prod262' 'Prod263' 'Prod264' 'Prod265' 'Prod266'\n",
      " 'Prod267' 'Prod268' 'Prod269' 'Prod270' 'Prod271' 'Prod272' 'Prod273'\n",
      " 'Prod274' 'Prod275' 'Prod276' 'Prod277' 'Prod278' 'Prod279'] \n",
      "\n",
      "product_type :  ['Own Brand\\r' 'Distribution\\r'] \n",
      "\n"
     ]
    }
   ],
   "source": [
    "unique_in_value_table(products)"
   ]
  },
  {
   "cell_type": "code",
   "execution_count": 68,
   "metadata": {},
   "outputs": [
    {
     "data": {
      "text/plain": [
       "'successfully updated'"
      ]
     },
     "execution_count": 68,
     "metadata": {},
     "output_type": "execute_result"
    }
   ],
   "source": [
    "# Update product_type \n",
    "\n",
    "command62 = '''\n",
    "    UPDATE sales.products\n",
    "    SET \n",
    "        product_type = 'Own Brand'\n",
    "    WHERE\n",
    "        product_type = 'Own Brand\\r';\n",
    "'''\n",
    "\n",
    "update(command62)"
   ]
  },
  {
   "cell_type": "code",
   "execution_count": 69,
   "metadata": {},
   "outputs": [
    {
     "data": {
      "text/plain": [
       "'successfully updated'"
      ]
     },
     "execution_count": 69,
     "metadata": {},
     "output_type": "execute_result"
    }
   ],
   "source": [
    "# Update product_type \n",
    "\n",
    "command63 = '''\n",
    "    UPDATE sales.products\n",
    "    SET \n",
    "        product_type = 'Distribution'\n",
    "    WHERE\n",
    "        product_type = 'Distribution\\r';\n",
    "'''\n",
    "\n",
    "update(command63)"
   ]
  },
  {
   "cell_type": "code",
   "execution_count": 70,
   "metadata": {},
   "outputs": [
    {
     "data": {
      "text/html": [
       "<div>\n",
       "<style scoped>\n",
       "    .dataframe tbody tr th:only-of-type {\n",
       "        vertical-align: middle;\n",
       "    }\n",
       "\n",
       "    .dataframe tbody tr th {\n",
       "        vertical-align: top;\n",
       "    }\n",
       "\n",
       "    .dataframe thead th {\n",
       "        text-align: right;\n",
       "    }\n",
       "</style>\n",
       "<table border=\"1\" class=\"dataframe\">\n",
       "  <thead>\n",
       "    <tr style=\"text-align: right;\">\n",
       "      <th></th>\n",
       "      <th>product_code</th>\n",
       "      <th>product_type</th>\n",
       "    </tr>\n",
       "  </thead>\n",
       "  <tbody>\n",
       "    <tr>\n",
       "      <th>0</th>\n",
       "      <td>Prod001</td>\n",
       "      <td>Own Brand</td>\n",
       "    </tr>\n",
       "    <tr>\n",
       "      <th>1</th>\n",
       "      <td>Prod002</td>\n",
       "      <td>Own Brand</td>\n",
       "    </tr>\n",
       "    <tr>\n",
       "      <th>2</th>\n",
       "      <td>Prod003</td>\n",
       "      <td>Own Brand</td>\n",
       "    </tr>\n",
       "    <tr>\n",
       "      <th>3</th>\n",
       "      <td>Prod004</td>\n",
       "      <td>Own Brand</td>\n",
       "    </tr>\n",
       "    <tr>\n",
       "      <th>4</th>\n",
       "      <td>Prod005</td>\n",
       "      <td>Own Brand</td>\n",
       "    </tr>\n",
       "  </tbody>\n",
       "</table>\n",
       "</div>"
      ],
      "text/plain": [
       "  product_code product_type\n",
       "0      Prod001    Own Brand\n",
       "1      Prod002    Own Brand\n",
       "2      Prod003    Own Brand\n",
       "3      Prod004    Own Brand\n",
       "4      Prod005    Own Brand"
      ]
     },
     "execution_count": 70,
     "metadata": {},
     "output_type": "execute_result"
    }
   ],
   "source": [
    "# products table\n",
    "command64 = '''\n",
    "    SELECT * FROM sales.products;\n",
    "'''\n",
    "\n",
    "products_clean = select(command64)\n",
    "products_clean.head()"
   ]
  },
  {
   "cell_type": "code",
   "execution_count": 71,
   "metadata": {},
   "outputs": [],
   "source": [
    "# Export data to csv\n",
    "products_clean.to_csv(r'csv_file/products_clean.csv', \n",
    "                index = False, \n",
    "                header=True)"
   ]
  },
  {
   "cell_type": "markdown",
   "metadata": {},
   "source": [
    "## Date Table"
   ]
  },
  {
   "cell_type": "code",
   "execution_count": 73,
   "metadata": {},
   "outputs": [
    {
     "data": {
      "text/html": [
       "<div>\n",
       "<style scoped>\n",
       "    .dataframe tbody tr th:only-of-type {\n",
       "        vertical-align: middle;\n",
       "    }\n",
       "\n",
       "    .dataframe tbody tr th {\n",
       "        vertical-align: top;\n",
       "    }\n",
       "\n",
       "    .dataframe thead th {\n",
       "        text-align: right;\n",
       "    }\n",
       "</style>\n",
       "<table border=\"1\" class=\"dataframe\">\n",
       "  <thead>\n",
       "    <tr style=\"text-align: right;\">\n",
       "      <th></th>\n",
       "      <th>date</th>\n",
       "      <th>cy_date</th>\n",
       "      <th>year</th>\n",
       "      <th>month_name</th>\n",
       "      <th>date_yy_mmm</th>\n",
       "    </tr>\n",
       "  </thead>\n",
       "  <tbody>\n",
       "    <tr>\n",
       "      <th>0</th>\n",
       "      <td>2017-06-01</td>\n",
       "      <td>2017-06-01</td>\n",
       "      <td>2017</td>\n",
       "      <td>June</td>\n",
       "      <td>17-Jun\\r</td>\n",
       "    </tr>\n",
       "    <tr>\n",
       "      <th>1</th>\n",
       "      <td>2017-06-02</td>\n",
       "      <td>2017-06-01</td>\n",
       "      <td>2017</td>\n",
       "      <td>June</td>\n",
       "      <td>17-Jun\\r</td>\n",
       "    </tr>\n",
       "    <tr>\n",
       "      <th>2</th>\n",
       "      <td>2017-06-03</td>\n",
       "      <td>2017-06-01</td>\n",
       "      <td>2017</td>\n",
       "      <td>June</td>\n",
       "      <td>17-Jun\\r</td>\n",
       "    </tr>\n",
       "    <tr>\n",
       "      <th>3</th>\n",
       "      <td>2017-06-04</td>\n",
       "      <td>2017-06-01</td>\n",
       "      <td>2017</td>\n",
       "      <td>June</td>\n",
       "      <td>17-Jun\\r</td>\n",
       "    </tr>\n",
       "    <tr>\n",
       "      <th>4</th>\n",
       "      <td>2017-06-05</td>\n",
       "      <td>2017-06-01</td>\n",
       "      <td>2017</td>\n",
       "      <td>June</td>\n",
       "      <td>17-Jun\\r</td>\n",
       "    </tr>\n",
       "  </tbody>\n",
       "</table>\n",
       "</div>"
      ],
      "text/plain": [
       "         date     cy_date  year month_name date_yy_mmm\n",
       "0  2017-06-01  2017-06-01  2017       June    17-Jun\\r\n",
       "1  2017-06-02  2017-06-01  2017       June    17-Jun\\r\n",
       "2  2017-06-03  2017-06-01  2017       June    17-Jun\\r\n",
       "3  2017-06-04  2017-06-01  2017       June    17-Jun\\r\n",
       "4  2017-06-05  2017-06-01  2017       June    17-Jun\\r"
      ]
     },
     "execution_count": 73,
     "metadata": {},
     "output_type": "execute_result"
    }
   ],
   "source": [
    "# date table\n",
    "command7 = '''\n",
    "    SELECT * FROM sales.date;\n",
    "'''\n",
    "\n",
    "date = select(command7)\n",
    "date.head()"
   ]
  },
  {
   "cell_type": "code",
   "execution_count": 74,
   "metadata": {},
   "outputs": [
    {
     "name": "stdout",
     "output_type": "stream",
     "text": [
      "date :  [datetime.date(2017, 6, 1) datetime.date(2017, 6, 2)\n",
      " datetime.date(2017, 6, 3) ... datetime.date(2020, 6, 28)\n",
      " datetime.date(2020, 6, 29) datetime.date(2020, 6, 30)] \n",
      "\n",
      "cy_date :  [datetime.date(2017, 6, 1) datetime.date(2017, 7, 1)\n",
      " datetime.date(2017, 8, 1) datetime.date(2017, 9, 1)\n",
      " datetime.date(2017, 10, 1) datetime.date(2017, 11, 1)\n",
      " datetime.date(2017, 12, 1) datetime.date(2018, 1, 1)\n",
      " datetime.date(2018, 2, 1) datetime.date(2018, 3, 1)\n",
      " datetime.date(2018, 4, 1) datetime.date(2018, 5, 1)\n",
      " datetime.date(2018, 6, 1) datetime.date(2018, 7, 1)\n",
      " datetime.date(2018, 8, 1) datetime.date(2018, 9, 1)\n",
      " datetime.date(2018, 10, 1) datetime.date(2018, 11, 1)\n",
      " datetime.date(2018, 12, 1) datetime.date(2019, 1, 1)\n",
      " datetime.date(2019, 2, 1) datetime.date(2019, 3, 1)\n",
      " datetime.date(2019, 4, 1) datetime.date(2019, 5, 1)\n",
      " datetime.date(2019, 6, 1) datetime.date(2019, 7, 1)\n",
      " datetime.date(2019, 8, 1) datetime.date(2019, 9, 1)\n",
      " datetime.date(2019, 10, 1) datetime.date(2019, 11, 1)\n",
      " datetime.date(2019, 12, 1) datetime.date(2020, 1, 1)\n",
      " datetime.date(2020, 2, 1) datetime.date(2020, 3, 1)\n",
      " datetime.date(2020, 4, 1) datetime.date(2020, 5, 1)\n",
      " datetime.date(2020, 6, 1)] \n",
      "\n",
      "year :  [2017 2018 2019 2020] \n",
      "\n",
      "month_name :  ['June' 'July' 'August' 'September' 'October' 'November' 'December'\n",
      " 'January' 'February' 'March' 'April' 'May'] \n",
      "\n",
      "date_yy_mmm :  ['17-Jun\\r' '17-Jul\\r' '17-Aug\\r' '17-Sep\\r' '17-Oct\\r' '17-Nov\\r'\n",
      " '17-Dec\\r' '18-Jan\\r' '18-Feb\\r' '18-Mar\\r' '18-Apr\\r' '18-May\\r'\n",
      " '18-Jun\\r' '18-Jul\\r' '18-Aug\\r' '18-Sep\\r' '18-Oct\\r' '18-Nov\\r'\n",
      " '18-Dec\\r' '19-Jan\\r' '19-Feb\\r' '19-Mar\\r' '19-Apr\\r' '19-May\\r'\n",
      " '19-Jun\\r' '19-Jul\\r' '19-Aug\\r' '19-Sep\\r' '19-Oct\\r' '19-Nov\\r'\n",
      " '19-Dec\\r' '20-Jan\\r' '20-Feb\\r' '20-Mar\\r' '20-Apr\\r' '20-May\\r'\n",
      " '20-Jun\\r'] \n",
      "\n"
     ]
    }
   ],
   "source": [
    "unique_in_value_table(date)"
   ]
  },
  {
   "cell_type": "code",
   "execution_count": 77,
   "metadata": {},
   "outputs": [
    {
     "data": {
      "text/plain": [
       "'successfully updated'"
      ]
     },
     "execution_count": 77,
     "metadata": {},
     "output_type": "execute_result"
    }
   ],
   "source": [
    "# update\n",
    "command72 = '''\n",
    "    UPDATE date\n",
    "    SET date_yy_mmm = REPLACE(date_yy_mmm, '\\r', '')\n",
    "    WHERE date_yy_mmm LIKE '%\\r' \n",
    "    ;\n",
    "'''\n",
    "\n",
    "update(command72)"
   ]
  },
  {
   "cell_type": "code",
   "execution_count": 78,
   "metadata": {},
   "outputs": [
    {
     "data": {
      "text/html": [
       "<div>\n",
       "<style scoped>\n",
       "    .dataframe tbody tr th:only-of-type {\n",
       "        vertical-align: middle;\n",
       "    }\n",
       "\n",
       "    .dataframe tbody tr th {\n",
       "        vertical-align: top;\n",
       "    }\n",
       "\n",
       "    .dataframe thead th {\n",
       "        text-align: right;\n",
       "    }\n",
       "</style>\n",
       "<table border=\"1\" class=\"dataframe\">\n",
       "  <thead>\n",
       "    <tr style=\"text-align: right;\">\n",
       "      <th></th>\n",
       "      <th>date</th>\n",
       "      <th>cy_date</th>\n",
       "      <th>year</th>\n",
       "      <th>month_name</th>\n",
       "      <th>date_yy_mmm</th>\n",
       "    </tr>\n",
       "  </thead>\n",
       "  <tbody>\n",
       "    <tr>\n",
       "      <th>0</th>\n",
       "      <td>2017-06-01</td>\n",
       "      <td>2017-06-01</td>\n",
       "      <td>2017</td>\n",
       "      <td>June</td>\n",
       "      <td>17-Jun</td>\n",
       "    </tr>\n",
       "    <tr>\n",
       "      <th>1</th>\n",
       "      <td>2017-06-02</td>\n",
       "      <td>2017-06-01</td>\n",
       "      <td>2017</td>\n",
       "      <td>June</td>\n",
       "      <td>17-Jun</td>\n",
       "    </tr>\n",
       "    <tr>\n",
       "      <th>2</th>\n",
       "      <td>2017-06-03</td>\n",
       "      <td>2017-06-01</td>\n",
       "      <td>2017</td>\n",
       "      <td>June</td>\n",
       "      <td>17-Jun</td>\n",
       "    </tr>\n",
       "    <tr>\n",
       "      <th>3</th>\n",
       "      <td>2017-06-04</td>\n",
       "      <td>2017-06-01</td>\n",
       "      <td>2017</td>\n",
       "      <td>June</td>\n",
       "      <td>17-Jun</td>\n",
       "    </tr>\n",
       "    <tr>\n",
       "      <th>4</th>\n",
       "      <td>2017-06-05</td>\n",
       "      <td>2017-06-01</td>\n",
       "      <td>2017</td>\n",
       "      <td>June</td>\n",
       "      <td>17-Jun</td>\n",
       "    </tr>\n",
       "  </tbody>\n",
       "</table>\n",
       "</div>"
      ],
      "text/plain": [
       "         date     cy_date  year month_name date_yy_mmm\n",
       "0  2017-06-01  2017-06-01  2017       June      17-Jun\n",
       "1  2017-06-02  2017-06-01  2017       June      17-Jun\n",
       "2  2017-06-03  2017-06-01  2017       June      17-Jun\n",
       "3  2017-06-04  2017-06-01  2017       June      17-Jun\n",
       "4  2017-06-05  2017-06-01  2017       June      17-Jun"
      ]
     },
     "execution_count": 78,
     "metadata": {},
     "output_type": "execute_result"
    }
   ],
   "source": [
    "# clean date table\n",
    "command73 = '''\n",
    "    SELECT * FROM sales.date;\n",
    "'''\n",
    "\n",
    "date_clean = select(command73)\n",
    "date_clean.head()"
   ]
  },
  {
   "cell_type": "code",
   "execution_count": 79,
   "metadata": {},
   "outputs": [],
   "source": [
    "# Export data to csv\n",
    "date_clean.to_csv(r'csv_file/date_clean.csv', \n",
    "                index = False, \n",
    "                header=True)"
   ]
  },
  {
   "cell_type": "markdown",
   "metadata": {},
   "source": [
    "## Want to know transaction in 2020"
   ]
  },
  {
   "cell_type": "code",
   "execution_count": 42,
   "metadata": {},
   "outputs": [
    {
     "data": {
      "text/html": [
       "<div>\n",
       "<style scoped>\n",
       "    .dataframe tbody tr th:only-of-type {\n",
       "        vertical-align: middle;\n",
       "    }\n",
       "\n",
       "    .dataframe tbody tr th {\n",
       "        vertical-align: top;\n",
       "    }\n",
       "\n",
       "    .dataframe thead th {\n",
       "        text-align: right;\n",
       "    }\n",
       "</style>\n",
       "<table border=\"1\" class=\"dataframe\">\n",
       "  <thead>\n",
       "    <tr style=\"text-align: right;\">\n",
       "      <th></th>\n",
       "      <th>order_date</th>\n",
       "      <th>sales_amount</th>\n",
       "      <th>year</th>\n",
       "    </tr>\n",
       "  </thead>\n",
       "  <tbody>\n",
       "    <tr>\n",
       "      <th>0</th>\n",
       "      <td>2020-01-09</td>\n",
       "      <td>630.0</td>\n",
       "      <td>2020</td>\n",
       "    </tr>\n",
       "    <tr>\n",
       "      <th>1</th>\n",
       "      <td>2020-01-10</td>\n",
       "      <td>472.0</td>\n",
       "      <td>2020</td>\n",
       "    </tr>\n",
       "    <tr>\n",
       "      <th>2</th>\n",
       "      <td>2020-01-17</td>\n",
       "      <td>2042.0</td>\n",
       "      <td>2020</td>\n",
       "    </tr>\n",
       "    <tr>\n",
       "      <th>3</th>\n",
       "      <td>2020-02-07</td>\n",
       "      <td>417.0</td>\n",
       "      <td>2020</td>\n",
       "    </tr>\n",
       "    <tr>\n",
       "      <th>4</th>\n",
       "      <td>2020-02-14</td>\n",
       "      <td>310.0</td>\n",
       "      <td>2020</td>\n",
       "    </tr>\n",
       "  </tbody>\n",
       "</table>\n",
       "</div>"
      ],
      "text/plain": [
       "   order_date  sales_amount  year\n",
       "0  2020-01-09         630.0  2020\n",
       "1  2020-01-10         472.0  2020\n",
       "2  2020-01-17        2042.0  2020\n",
       "3  2020-02-07         417.0  2020\n",
       "4  2020-02-14         310.0  2020"
      ]
     },
     "execution_count": 42,
     "metadata": {},
     "output_type": "execute_result"
    }
   ],
   "source": [
    "# Transactions Table\n",
    "command8 = '''\n",
    "    SELECT tr.order_date, tr.sales_amount, dt.year\n",
    "    FROM sales.transactions as tr\n",
    "    INNER JOIN sales.date as dt\n",
    "    ON tr.order_date = dt.date\n",
    "    WHERE dt.year = 2020\n",
    "    ;\n",
    "'''\n",
    "\n",
    "transactions_2020 = select(command8)\n",
    "transactions_2020.head()"
   ]
  },
  {
   "cell_type": "code",
   "execution_count": 43,
   "metadata": {},
   "outputs": [
    {
     "data": {
      "text/html": [
       "<div>\n",
       "<style scoped>\n",
       "    .dataframe tbody tr th:only-of-type {\n",
       "        vertical-align: middle;\n",
       "    }\n",
       "\n",
       "    .dataframe tbody tr th {\n",
       "        vertical-align: top;\n",
       "    }\n",
       "\n",
       "    .dataframe thead th {\n",
       "        text-align: right;\n",
       "    }\n",
       "</style>\n",
       "<table border=\"1\" class=\"dataframe\">\n",
       "  <thead>\n",
       "    <tr style=\"text-align: right;\">\n",
       "      <th></th>\n",
       "      <th>total_sales_amount</th>\n",
       "    </tr>\n",
       "  </thead>\n",
       "  <tbody>\n",
       "    <tr>\n",
       "      <th>0</th>\n",
       "      <td>142235559.0</td>\n",
       "    </tr>\n",
       "  </tbody>\n",
       "</table>\n",
       "</div>"
      ],
      "text/plain": [
       "   total_sales_amount\n",
       "0         142235559.0"
      ]
     },
     "execution_count": 43,
     "metadata": {},
     "output_type": "execute_result"
    }
   ],
   "source": [
    "# we want to know total_sales_amount 2020\n",
    "command9 = '''\n",
    "    SELECT sum(tr.sales_amount) AS total_sales_amount\n",
    "    FROM sales.transactions as tr\n",
    "    INNER JOIN sales.date as dt\n",
    "    ON tr.order_date = dt.date\n",
    "    WHERE dt.year = 2020\n",
    "    ;\n",
    "'''\n",
    "\n",
    "select(command9)"
   ]
  },
  {
   "cell_type": "markdown",
   "metadata": {},
   "source": [
    "## Want to know transaction in 2019"
   ]
  },
  {
   "cell_type": "code",
   "execution_count": 44,
   "metadata": {},
   "outputs": [
    {
     "data": {
      "text/html": [
       "<div>\n",
       "<style scoped>\n",
       "    .dataframe tbody tr th:only-of-type {\n",
       "        vertical-align: middle;\n",
       "    }\n",
       "\n",
       "    .dataframe tbody tr th {\n",
       "        vertical-align: top;\n",
       "    }\n",
       "\n",
       "    .dataframe thead th {\n",
       "        text-align: right;\n",
       "    }\n",
       "</style>\n",
       "<table border=\"1\" class=\"dataframe\">\n",
       "  <thead>\n",
       "    <tr style=\"text-align: right;\">\n",
       "      <th></th>\n",
       "      <th>total_sales_amount</th>\n",
       "    </tr>\n",
       "  </thead>\n",
       "  <tbody>\n",
       "    <tr>\n",
       "      <th>0</th>\n",
       "      <td>336452114.0</td>\n",
       "    </tr>\n",
       "  </tbody>\n",
       "</table>\n",
       "</div>"
      ],
      "text/plain": [
       "   total_sales_amount\n",
       "0         336452114.0"
      ]
     },
     "execution_count": 44,
     "metadata": {},
     "output_type": "execute_result"
    }
   ],
   "source": [
    "# we want to know total_sales_amount 2019\n",
    "command10 = '''\n",
    "    SELECT sum(tr.sales_amount) AS total_sales_amount\n",
    "    FROM sales.transactions as tr\n",
    "    INNER JOIN sales.date as dt\n",
    "    ON tr.order_date = dt.date\n",
    "    WHERE dt.year = 2019\n",
    "    ;\n",
    "'''\n",
    "\n",
    "select(command10)"
   ]
  },
  {
   "cell_type": "markdown",
   "metadata": {},
   "source": [
    "## Want to know transactions and product from Chennai\n",
    "\n",
    "Chennai have market_code = 'Mark001'"
   ]
  },
  {
   "cell_type": "code",
   "execution_count": 49,
   "metadata": {},
   "outputs": [
    {
     "data": {
      "text/html": [
       "<div>\n",
       "<style scoped>\n",
       "    .dataframe tbody tr th:only-of-type {\n",
       "        vertical-align: middle;\n",
       "    }\n",
       "\n",
       "    .dataframe tbody tr th {\n",
       "        vertical-align: top;\n",
       "    }\n",
       "\n",
       "    .dataframe thead th {\n",
       "        text-align: right;\n",
       "    }\n",
       "</style>\n",
       "<table border=\"1\" class=\"dataframe\">\n",
       "  <thead>\n",
       "    <tr style=\"text-align: right;\">\n",
       "      <th></th>\n",
       "      <th>product_code</th>\n",
       "      <th>customer_code</th>\n",
       "      <th>market_code</th>\n",
       "      <th>order_date</th>\n",
       "      <th>sales_qty</th>\n",
       "      <th>sales_amount</th>\n",
       "      <th>currency</th>\n",
       "      <th>date</th>\n",
       "      <th>cy_date</th>\n",
       "      <th>year</th>\n",
       "      <th>month_name</th>\n",
       "      <th>date_yy_mmm</th>\n",
       "    </tr>\n",
       "  </thead>\n",
       "  <tbody>\n",
       "    <tr>\n",
       "      <th>0</th>\n",
       "      <td>Prod040</td>\n",
       "      <td>Cus001</td>\n",
       "      <td>Mark001</td>\n",
       "      <td>2020-01-17</td>\n",
       "      <td>40</td>\n",
       "      <td>25116.0</td>\n",
       "      <td>INR\\r</td>\n",
       "      <td>2020-01-17</td>\n",
       "      <td>2020-01-01</td>\n",
       "      <td>2020</td>\n",
       "      <td>January</td>\n",
       "      <td>20-Jan\\r</td>\n",
       "    </tr>\n",
       "    <tr>\n",
       "      <th>1</th>\n",
       "      <td>Prod040</td>\n",
       "      <td>Cus001</td>\n",
       "      <td>Mark001</td>\n",
       "      <td>2020-01-21</td>\n",
       "      <td>80</td>\n",
       "      <td>56083.0</td>\n",
       "      <td>INR\\r</td>\n",
       "      <td>2020-01-21</td>\n",
       "      <td>2020-01-01</td>\n",
       "      <td>2020</td>\n",
       "      <td>January</td>\n",
       "      <td>20-Jan\\r</td>\n",
       "    </tr>\n",
       "    <tr>\n",
       "      <th>2</th>\n",
       "      <td>Prod040</td>\n",
       "      <td>Cus001</td>\n",
       "      <td>Mark001</td>\n",
       "      <td>2020-01-28</td>\n",
       "      <td>40</td>\n",
       "      <td>25116.0</td>\n",
       "      <td>INR\\r</td>\n",
       "      <td>2020-01-28</td>\n",
       "      <td>2020-01-01</td>\n",
       "      <td>2020</td>\n",
       "      <td>January</td>\n",
       "      <td>20-Jan\\r</td>\n",
       "    </tr>\n",
       "    <tr>\n",
       "      <th>3</th>\n",
       "      <td>Prod040</td>\n",
       "      <td>Cus001</td>\n",
       "      <td>Mark001</td>\n",
       "      <td>2020-02-13</td>\n",
       "      <td>40</td>\n",
       "      <td>25116.0</td>\n",
       "      <td>INR\\r</td>\n",
       "      <td>2020-02-13</td>\n",
       "      <td>2020-02-01</td>\n",
       "      <td>2020</td>\n",
       "      <td>February</td>\n",
       "      <td>20-Feb\\r</td>\n",
       "    </tr>\n",
       "    <tr>\n",
       "      <th>4</th>\n",
       "      <td>Prod040</td>\n",
       "      <td>Cus001</td>\n",
       "      <td>Mark001</td>\n",
       "      <td>2020-04-15</td>\n",
       "      <td>40</td>\n",
       "      <td>28042.0</td>\n",
       "      <td>INR\\r</td>\n",
       "      <td>2020-04-15</td>\n",
       "      <td>2020-04-01</td>\n",
       "      <td>2020</td>\n",
       "      <td>April</td>\n",
       "      <td>20-Apr\\r</td>\n",
       "    </tr>\n",
       "  </tbody>\n",
       "</table>\n",
       "</div>"
      ],
      "text/plain": [
       "  product_code customer_code market_code  order_date  sales_qty  sales_amount  \\\n",
       "0      Prod040        Cus001     Mark001  2020-01-17         40       25116.0   \n",
       "1      Prod040        Cus001     Mark001  2020-01-21         80       56083.0   \n",
       "2      Prod040        Cus001     Mark001  2020-01-28         40       25116.0   \n",
       "3      Prod040        Cus001     Mark001  2020-02-13         40       25116.0   \n",
       "4      Prod040        Cus001     Mark001  2020-04-15         40       28042.0   \n",
       "\n",
       "  currency        date     cy_date  year month_name date_yy_mmm  \n",
       "0    INR\\r  2020-01-17  2020-01-01  2020    January    20-Jan\\r  \n",
       "1    INR\\r  2020-01-21  2020-01-01  2020    January    20-Jan\\r  \n",
       "2    INR\\r  2020-01-28  2020-01-01  2020    January    20-Jan\\r  \n",
       "3    INR\\r  2020-02-13  2020-02-01  2020   February    20-Feb\\r  \n",
       "4    INR\\r  2020-04-15  2020-04-01  2020      April    20-Apr\\r  "
      ]
     },
     "execution_count": 49,
     "metadata": {},
     "output_type": "execute_result"
    }
   ],
   "source": [
    "# Chennai Transaction\n",
    "command11 = '''\n",
    "    SELECT tr.*, dt.*\n",
    "    FROM sales.transactions as tr\n",
    "    INNER JOIN sales.date as dt\n",
    "    ON tr.order_date = dt.date\n",
    "    WHERE \n",
    "        dt.year = 2020\n",
    "        AND\n",
    "        tr.market_code = 'Mark001'\n",
    "    ;\n",
    "'''\n",
    "\n",
    "select(command11).head()"
   ]
  },
  {
   "cell_type": "code",
   "execution_count": 52,
   "metadata": {},
   "outputs": [
    {
     "data": {
      "text/html": [
       "<div>\n",
       "<style scoped>\n",
       "    .dataframe tbody tr th:only-of-type {\n",
       "        vertical-align: middle;\n",
       "    }\n",
       "\n",
       "    .dataframe tbody tr th {\n",
       "        vertical-align: top;\n",
       "    }\n",
       "\n",
       "    .dataframe thead th {\n",
       "        text-align: right;\n",
       "    }\n",
       "</style>\n",
       "<table border=\"1\" class=\"dataframe\">\n",
       "  <thead>\n",
       "    <tr style=\"text-align: right;\">\n",
       "      <th></th>\n",
       "      <th>product_code</th>\n",
       "      <th>customer_code</th>\n",
       "      <th>market_code</th>\n",
       "      <th>order_date</th>\n",
       "      <th>sales_qty</th>\n",
       "      <th>sales_amount</th>\n",
       "      <th>currency</th>\n",
       "      <th>product_code</th>\n",
       "      <th>product_type</th>\n",
       "    </tr>\n",
       "  </thead>\n",
       "  <tbody>\n",
       "    <tr>\n",
       "      <th>0</th>\n",
       "      <td>Prod001</td>\n",
       "      <td>Cus001</td>\n",
       "      <td>Mark001</td>\n",
       "      <td>2017-10-10</td>\n",
       "      <td>100</td>\n",
       "      <td>41241.0</td>\n",
       "      <td>INR</td>\n",
       "      <td>Prod001</td>\n",
       "      <td>Own Brand\\r</td>\n",
       "    </tr>\n",
       "    <tr>\n",
       "      <th>1</th>\n",
       "      <td>Prod013</td>\n",
       "      <td>Cus001</td>\n",
       "      <td>Mark001</td>\n",
       "      <td>2017-10-10</td>\n",
       "      <td>240</td>\n",
       "      <td>143560.0</td>\n",
       "      <td>INR</td>\n",
       "      <td>Prod013</td>\n",
       "      <td>Own Brand\\r</td>\n",
       "    </tr>\n",
       "    <tr>\n",
       "      <th>2</th>\n",
       "      <td>Prod001</td>\n",
       "      <td>Cus001</td>\n",
       "      <td>Mark001</td>\n",
       "      <td>2017-10-10</td>\n",
       "      <td>100</td>\n",
       "      <td>41241.0</td>\n",
       "      <td>INR\\r</td>\n",
       "      <td>Prod001</td>\n",
       "      <td>Own Brand\\r</td>\n",
       "    </tr>\n",
       "    <tr>\n",
       "      <th>3</th>\n",
       "      <td>Prod013</td>\n",
       "      <td>Cus001</td>\n",
       "      <td>Mark001</td>\n",
       "      <td>2017-10-10</td>\n",
       "      <td>240</td>\n",
       "      <td>143560.0</td>\n",
       "      <td>INR\\r</td>\n",
       "      <td>Prod013</td>\n",
       "      <td>Own Brand\\r</td>\n",
       "    </tr>\n",
       "    <tr>\n",
       "      <th>4</th>\n",
       "      <td>Prod016</td>\n",
       "      <td>Cus001</td>\n",
       "      <td>Mark001</td>\n",
       "      <td>2018-06-28</td>\n",
       "      <td>187</td>\n",
       "      <td>115481.0</td>\n",
       "      <td>INR\\r</td>\n",
       "      <td>Prod016</td>\n",
       "      <td>Own Brand\\r</td>\n",
       "    </tr>\n",
       "  </tbody>\n",
       "</table>\n",
       "</div>"
      ],
      "text/plain": [
       "  product_code customer_code market_code  order_date  sales_qty  sales_amount  \\\n",
       "0      Prod001        Cus001     Mark001  2017-10-10        100       41241.0   \n",
       "1      Prod013        Cus001     Mark001  2017-10-10        240      143560.0   \n",
       "2      Prod001        Cus001     Mark001  2017-10-10        100       41241.0   \n",
       "3      Prod013        Cus001     Mark001  2017-10-10        240      143560.0   \n",
       "4      Prod016        Cus001     Mark001  2018-06-28        187      115481.0   \n",
       "\n",
       "  currency product_code product_type  \n",
       "0      INR      Prod001  Own Brand\\r  \n",
       "1      INR      Prod013  Own Brand\\r  \n",
       "2    INR\\r      Prod001  Own Brand\\r  \n",
       "3    INR\\r      Prod013  Own Brand\\r  \n",
       "4    INR\\r      Prod016  Own Brand\\r  "
      ]
     },
     "execution_count": 52,
     "metadata": {},
     "output_type": "execute_result"
    }
   ],
   "source": [
    "# Product Buying from Chennai \n",
    "command12 = '''\n",
    "    SELECT tr.*, prod.*\n",
    "    FROM sales.transactions as tr\n",
    "    INNER JOIN sales.products as prod\n",
    "    ON tr.product_code = prod.product_code\n",
    "    WHERE \n",
    "        tr.market_code = 'Mark001'\n",
    "    ;\n",
    "'''\n",
    "\n",
    "select(command12).head()"
   ]
  },
  {
   "cell_type": "code",
   "execution_count": null,
   "metadata": {},
   "outputs": [],
   "source": []
  },
  {
   "cell_type": "code",
   "execution_count": 11,
   "metadata": {},
   "outputs": [],
   "source": [
    "# conn.commit used to confirm any changes you make\n",
    "connection.commit()\n",
    "\n",
    "# conn.close used to close the connection you make\n",
    "connection.close()"
   ]
  },
  {
   "cell_type": "code",
   "execution_count": null,
   "metadata": {},
   "outputs": [],
   "source": []
  }
 ],
 "metadata": {
  "kernelspec": {
   "display_name": "Python 3",
   "language": "python",
   "name": "python3"
  },
  "language_info": {
   "codemirror_mode": {
    "name": "ipython",
    "version": 3
   },
   "file_extension": ".py",
   "mimetype": "text/x-python",
   "name": "python",
   "nbconvert_exporter": "python",
   "pygments_lexer": "ipython3",
   "version": "3.8.5"
  }
 },
 "nbformat": 4,
 "nbformat_minor": 4
}
